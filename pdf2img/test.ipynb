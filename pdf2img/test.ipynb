{
 "cells": [
  {
   "cell_type": "code",
   "execution_count": 21,
   "metadata": {},
   "outputs": [
    {
     "name": "stdout",
     "output_type": "stream",
     "text": [
      "Collecting mupdf\n",
      "  Downloading mupdf-1.21.1.20230112.1504-cp310-none-win_amd64.whl (31.1 MB)\n",
      "     ---------------------------------------- 31.1/31.1 MB 2.6 MB/s eta 0:00:00\n",
      "Installing collected packages: mupdf\n",
      "Successfully installed mupdf-1.21.1.20230112.1504\n",
      "Note: you may need to restart the kernel to use updated packages.\n"
     ]
    },
    {
     "name": "stderr",
     "output_type": "stream",
     "text": [
      "\n",
      "[notice] A new release of pip is available: 23.0 -> 23.1.2\n",
      "[notice] To update, run: python.exe -m pip install --upgrade pip\n"
     ]
    }
   ],
   "source": [
    "%pip install PyMuPDF "
   ]
  },
  {
   "cell_type": "code",
   "execution_count": 19,
   "metadata": {},
   "outputs": [
    {
     "name": "stdout",
     "output_type": "stream",
     "text": [
      "Requirement already satisfied: pdf2image in c:\\users\\nikhi\\appdata\\local\\programs\\python\\python310\\lib\\site-packages (1.16.3)\n",
      "Requirement already satisfied: pillow in c:\\users\\nikhi\\appdata\\local\\programs\\python\\python310\\lib\\site-packages (from pdf2image) (9.2.0)\n",
      "Note: you may need to restart the kernel to use updated packages.\n"
     ]
    },
    {
     "name": "stderr",
     "output_type": "stream",
     "text": [
      "\n",
      "[notice] A new release of pip is available: 23.0 -> 23.1.2\n",
      "[notice] To update, run: python.exe -m pip install --upgrade pip\n"
     ]
    }
   ],
   "source": [
    "# Install the library\n",
    "%pip install pdf2image"
   ]
  },
  {
   "cell_type": "code",
   "execution_count": 2,
   "metadata": {},
   "outputs": [
    {
     "ename": "PDFInfoNotInstalledError",
     "evalue": "Unable to get page count. Is poppler installed and in PATH?",
     "output_type": "error",
     "traceback": [
      "\u001b[1;31m---------------------------------------------------------------------------\u001b[0m",
      "\u001b[1;31mFileNotFoundError\u001b[0m                         Traceback (most recent call last)",
      "File \u001b[1;32mc:\\Users\\nikhi\\AppData\\Local\\Programs\\Python\\Python310\\lib\\site-packages\\pdf2image\\pdf2image.py:568\u001b[0m, in \u001b[0;36mpdfinfo_from_path\u001b[1;34m(pdf_path, userpw, ownerpw, poppler_path, rawdates, timeout)\u001b[0m\n\u001b[0;32m    567\u001b[0m     env[\u001b[39m\"\u001b[39m\u001b[39mLD_LIBRARY_PATH\u001b[39m\u001b[39m\"\u001b[39m] \u001b[39m=\u001b[39m poppler_path \u001b[39m+\u001b[39m \u001b[39m\"\u001b[39m\u001b[39m:\u001b[39m\u001b[39m\"\u001b[39m \u001b[39m+\u001b[39m env\u001b[39m.\u001b[39mget(\u001b[39m\"\u001b[39m\u001b[39mLD_LIBRARY_PATH\u001b[39m\u001b[39m\"\u001b[39m, \u001b[39m\"\u001b[39m\u001b[39m\"\u001b[39m)\n\u001b[1;32m--> 568\u001b[0m proc \u001b[39m=\u001b[39m Popen(command, env\u001b[39m=\u001b[39;49menv, stdout\u001b[39m=\u001b[39;49mPIPE, stderr\u001b[39m=\u001b[39;49mPIPE)\n\u001b[0;32m    570\u001b[0m \u001b[39mtry\u001b[39;00m:\n",
      "File \u001b[1;32mc:\\Users\\nikhi\\AppData\\Local\\Programs\\Python\\Python310\\lib\\subprocess.py:971\u001b[0m, in \u001b[0;36mPopen.__init__\u001b[1;34m(self, args, bufsize, executable, stdin, stdout, stderr, preexec_fn, close_fds, shell, cwd, env, universal_newlines, startupinfo, creationflags, restore_signals, start_new_session, pass_fds, user, group, extra_groups, encoding, errors, text, umask, pipesize)\u001b[0m\n\u001b[0;32m    968\u001b[0m             \u001b[39mself\u001b[39m\u001b[39m.\u001b[39mstderr \u001b[39m=\u001b[39m io\u001b[39m.\u001b[39mTextIOWrapper(\u001b[39mself\u001b[39m\u001b[39m.\u001b[39mstderr,\n\u001b[0;32m    969\u001b[0m                     encoding\u001b[39m=\u001b[39mencoding, errors\u001b[39m=\u001b[39merrors)\n\u001b[1;32m--> 971\u001b[0m     \u001b[39mself\u001b[39;49m\u001b[39m.\u001b[39;49m_execute_child(args, executable, preexec_fn, close_fds,\n\u001b[0;32m    972\u001b[0m                         pass_fds, cwd, env,\n\u001b[0;32m    973\u001b[0m                         startupinfo, creationflags, shell,\n\u001b[0;32m    974\u001b[0m                         p2cread, p2cwrite,\n\u001b[0;32m    975\u001b[0m                         c2pread, c2pwrite,\n\u001b[0;32m    976\u001b[0m                         errread, errwrite,\n\u001b[0;32m    977\u001b[0m                         restore_signals,\n\u001b[0;32m    978\u001b[0m                         gid, gids, uid, umask,\n\u001b[0;32m    979\u001b[0m                         start_new_session)\n\u001b[0;32m    980\u001b[0m \u001b[39mexcept\u001b[39;00m:\n\u001b[0;32m    981\u001b[0m     \u001b[39m# Cleanup if the child failed starting.\u001b[39;00m\n",
      "File \u001b[1;32mc:\\Users\\nikhi\\AppData\\Local\\Programs\\Python\\Python310\\lib\\subprocess.py:1440\u001b[0m, in \u001b[0;36mPopen._execute_child\u001b[1;34m(self, args, executable, preexec_fn, close_fds, pass_fds, cwd, env, startupinfo, creationflags, shell, p2cread, p2cwrite, c2pread, c2pwrite, errread, errwrite, unused_restore_signals, unused_gid, unused_gids, unused_uid, unused_umask, unused_start_new_session)\u001b[0m\n\u001b[0;32m   1439\u001b[0m \u001b[39mtry\u001b[39;00m:\n\u001b[1;32m-> 1440\u001b[0m     hp, ht, pid, tid \u001b[39m=\u001b[39m _winapi\u001b[39m.\u001b[39;49mCreateProcess(executable, args,\n\u001b[0;32m   1441\u001b[0m                              \u001b[39m# no special security\u001b[39;49;00m\n\u001b[0;32m   1442\u001b[0m                              \u001b[39mNone\u001b[39;49;00m, \u001b[39mNone\u001b[39;49;00m,\n\u001b[0;32m   1443\u001b[0m                              \u001b[39mint\u001b[39;49m(\u001b[39mnot\u001b[39;49;00m close_fds),\n\u001b[0;32m   1444\u001b[0m                              creationflags,\n\u001b[0;32m   1445\u001b[0m                              env,\n\u001b[0;32m   1446\u001b[0m                              cwd,\n\u001b[0;32m   1447\u001b[0m                              startupinfo)\n\u001b[0;32m   1448\u001b[0m \u001b[39mfinally\u001b[39;00m:\n\u001b[0;32m   1449\u001b[0m     \u001b[39m# Child is launched. Close the parent's copy of those pipe\u001b[39;00m\n\u001b[0;32m   1450\u001b[0m     \u001b[39m# handles that only the child should have open.  You need\u001b[39;00m\n\u001b[1;32m   (...)\u001b[0m\n\u001b[0;32m   1453\u001b[0m     \u001b[39m# pipe will not close when the child process exits and the\u001b[39;00m\n\u001b[0;32m   1454\u001b[0m     \u001b[39m# ReadFile will hang.\u001b[39;00m\n",
      "\u001b[1;31mFileNotFoundError\u001b[0m: [WinError 2] The system cannot find the file specified",
      "\nDuring handling of the above exception, another exception occurred:\n",
      "\u001b[1;31mPDFInfoNotInstalledError\u001b[0m                  Traceback (most recent call last)",
      "\u001b[1;32md:\\TaskLabs\\PythonTools\\pdf2img\\test.ipynb Cell 3\u001b[0m in \u001b[0;36m<cell line: 8>\u001b[1;34m()\u001b[0m\n\u001b[0;32m      <a href='vscode-notebook-cell:/d%3A/TaskLabs/PythonTools/pdf2img/test.ipynb#W2sZmlsZQ%3D%3D?line=4'>5</a>\u001b[0m pdf_path \u001b[39m=\u001b[39m \u001b[39m\"\u001b[39m\u001b[39m./debu.pdf\u001b[39m\u001b[39m\"\u001b[39m\n\u001b[0;32m      <a href='vscode-notebook-cell:/d%3A/TaskLabs/PythonTools/pdf2img/test.ipynb#W2sZmlsZQ%3D%3D?line=6'>7</a>\u001b[0m \u001b[39m# Convert each page of the PDF to an image\u001b[39;00m\n\u001b[1;32m----> <a href='vscode-notebook-cell:/d%3A/TaskLabs/PythonTools/pdf2img/test.ipynb#W2sZmlsZQ%3D%3D?line=7'>8</a>\u001b[0m pages \u001b[39m=\u001b[39m convert_from_path(pdf_path)\n\u001b[0;32m     <a href='vscode-notebook-cell:/d%3A/TaskLabs/PythonTools/pdf2img/test.ipynb#W2sZmlsZQ%3D%3D?line=9'>10</a>\u001b[0m \u001b[39m# Save each page as a JPEG image\u001b[39;00m\n\u001b[0;32m     <a href='vscode-notebook-cell:/d%3A/TaskLabs/PythonTools/pdf2img/test.ipynb#W2sZmlsZQ%3D%3D?line=10'>11</a>\u001b[0m \u001b[39mfor\u001b[39;00m i, page \u001b[39min\u001b[39;00m \u001b[39menumerate\u001b[39m(pages):\n",
      "File \u001b[1;32mc:\\Users\\nikhi\\AppData\\Local\\Programs\\Python\\Python310\\lib\\site-packages\\pdf2image\\pdf2image.py:127\u001b[0m, in \u001b[0;36mconvert_from_path\u001b[1;34m(pdf_path, dpi, output_folder, first_page, last_page, fmt, jpegopt, thread_count, userpw, ownerpw, use_cropbox, strict, transparent, single_file, output_file, poppler_path, grayscale, size, paths_only, use_pdftocairo, timeout, hide_annotations)\u001b[0m\n\u001b[0;32m    124\u001b[0m \u001b[39mif\u001b[39;00m \u001b[39misinstance\u001b[39m(poppler_path, PurePath):\n\u001b[0;32m    125\u001b[0m     poppler_path \u001b[39m=\u001b[39m poppler_path\u001b[39m.\u001b[39mas_posix()\n\u001b[1;32m--> 127\u001b[0m page_count \u001b[39m=\u001b[39m pdfinfo_from_path(\n\u001b[0;32m    128\u001b[0m     pdf_path, userpw, ownerpw, poppler_path\u001b[39m=\u001b[39;49mpoppler_path\n\u001b[0;32m    129\u001b[0m )[\u001b[39m\"\u001b[39m\u001b[39mPages\u001b[39m\u001b[39m\"\u001b[39m]\n\u001b[0;32m    131\u001b[0m \u001b[39m# We start by getting the output format, the buffer processing function and if we need pdftocairo\u001b[39;00m\n\u001b[0;32m    132\u001b[0m parsed_fmt, final_extension, parse_buffer_func, use_pdfcairo_format \u001b[39m=\u001b[39m _parse_format(\n\u001b[0;32m    133\u001b[0m     fmt, grayscale\n\u001b[0;32m    134\u001b[0m )\n",
      "File \u001b[1;32mc:\\Users\\nikhi\\AppData\\Local\\Programs\\Python\\Python310\\lib\\site-packages\\pdf2image\\pdf2image.py:594\u001b[0m, in \u001b[0;36mpdfinfo_from_path\u001b[1;34m(pdf_path, userpw, ownerpw, poppler_path, rawdates, timeout)\u001b[0m\n\u001b[0;32m    591\u001b[0m     \u001b[39mreturn\u001b[39;00m d\n\u001b[0;32m    593\u001b[0m \u001b[39mexcept\u001b[39;00m \u001b[39mOSError\u001b[39;00m:\n\u001b[1;32m--> 594\u001b[0m     \u001b[39mraise\u001b[39;00m PDFInfoNotInstalledError(\n\u001b[0;32m    595\u001b[0m         \u001b[39m\"\u001b[39m\u001b[39mUnable to get page count. Is poppler installed and in PATH?\u001b[39m\u001b[39m\"\u001b[39m\n\u001b[0;32m    596\u001b[0m     )\n\u001b[0;32m    597\u001b[0m \u001b[39mexcept\u001b[39;00m \u001b[39mValueError\u001b[39;00m:\n\u001b[0;32m    598\u001b[0m     \u001b[39mraise\u001b[39;00m PDFPageCountError(\n\u001b[0;32m    599\u001b[0m         \u001b[39mf\u001b[39m\u001b[39m\"\u001b[39m\u001b[39mUnable to get page count.\u001b[39m\u001b[39m\\n\u001b[39;00m\u001b[39m{\u001b[39;00merr\u001b[39m.\u001b[39mdecode(\u001b[39m'\u001b[39m\u001b[39mutf8\u001b[39m\u001b[39m'\u001b[39m, \u001b[39m'\u001b[39m\u001b[39mignore\u001b[39m\u001b[39m'\u001b[39m)\u001b[39m}\u001b[39;00m\u001b[39m\"\u001b[39m\n\u001b[0;32m    600\u001b[0m     )\n",
      "\u001b[1;31mPDFInfoNotInstalledError\u001b[0m: Unable to get page count. Is poppler installed and in PATH?"
     ]
    }
   ],
   "source": [
    "\n",
    "\n",
    "# Import necessary libraries\n",
    "from pdf2image import convert_from_path\n",
    "\n",
    "# Set the path to the PDF file\n",
    "pdf_path = \"./debu.pdf\"\n",
    "\n",
    "# Convert each page of the PDF to an image\n",
    "pages = convert_from_path(pdf_path)\n",
    "\n",
    "# Save each page as a JPEG image\n",
    "for i, page in enumerate(pages):\n",
    "    page.save(f\"page_{i+1}.jpg\", \"JPEG\")\n"
   ]
  },
  {
   "cell_type": "code",
   "execution_count": 3,
   "metadata": {},
   "outputs": [],
   "source": [
    "# Large Wheel Size\n",
    "%pip install PyMuPDF \n",
    "\n",
    "import fitz\n",
    "# Open the PDF file\n",
    "pdf_file = \"./SQLPracticeQuestions.pdf\"\n",
    "doc = fitz.open(pdf_file)\n",
    "\n",
    "# Iterate through pages and convert each page to a PNG image\n",
    "for i in range(doc.page_count):\n",
    "    page = doc.load_page(i)\n",
    "    pix = page.get_pixmap()\n",
    "    output_file = f\"./imgs/page_{i+1}.png\"\n",
    "    pix.save(output_file)\n",
    "\n",
    "# Close the PDF file\n",
    "doc.close()\n"
   ]
  },
  {
   "cell_type": "code",
   "execution_count": 23,
   "metadata": {},
   "outputs": [
    {
     "ename": "AttributeError",
     "evalue": "'Page' object has no attribute 'getPixmap'",
     "output_type": "error",
     "traceback": [
      "\u001b[1;31m---------------------------------------------------------------------------\u001b[0m",
      "\u001b[1;31mAttributeError\u001b[0m                            Traceback (most recent call last)",
      "\u001b[1;32md:\\TaskLabs\\PythonTools\\pdf2img\\test.ipynb Cell 5\u001b[0m in \u001b[0;36m<cell line: 13>\u001b[1;34m()\u001b[0m\n\u001b[0;32m     <a href='vscode-notebook-cell:/d%3A/TaskLabs/PythonTools/pdf2img/test.ipynb#W5sZmlsZQ%3D%3D?line=17'>18</a>\u001b[0m \u001b[39m# Convert page to image\u001b[39;00m\n\u001b[0;32m     <a href='vscode-notebook-cell:/d%3A/TaskLabs/PythonTools/pdf2img/test.ipynb#W5sZmlsZQ%3D%3D?line=18'>19</a>\u001b[0m zoom \u001b[39m=\u001b[39m \u001b[39m2.0\u001b[39m  \u001b[39m# increase zoom from default for better resolution\u001b[39;00m\n\u001b[1;32m---> <a href='vscode-notebook-cell:/d%3A/TaskLabs/PythonTools/pdf2img/test.ipynb#W5sZmlsZQ%3D%3D?line=19'>20</a>\u001b[0m pix \u001b[39m=\u001b[39m page\u001b[39m.\u001b[39;49mgetPixmap(matrix\u001b[39m=\u001b[39mfitz\u001b[39m.\u001b[39mMatrix(zoom, zoom))\n\u001b[0;32m     <a href='vscode-notebook-cell:/d%3A/TaskLabs/PythonTools/pdf2img/test.ipynb#W5sZmlsZQ%3D%3D?line=21'>22</a>\u001b[0m \u001b[39m# Save image as PNG\u001b[39;00m\n\u001b[0;32m     <a href='vscode-notebook-cell:/d%3A/TaskLabs/PythonTools/pdf2img/test.ipynb#W5sZmlsZQ%3D%3D?line=22'>23</a>\u001b[0m output_folder \u001b[39m=\u001b[39m \u001b[39mf\u001b[39m\u001b[39m\"\u001b[39m\u001b[39mpage_\u001b[39m\u001b[39m{\u001b[39;00mpage_num\u001b[39m+\u001b[39m\u001b[39m1\u001b[39m\u001b[39m}\u001b[39;00m\u001b[39m\"\u001b[39m\n",
      "\u001b[1;31mAttributeError\u001b[0m: 'Page' object has no attribute 'getPixmap'"
     ]
    }
   ],
   "source": [
    "import os\n",
    "from io import BytesIO\n",
    "from PIL import Image\n",
    "import fitz\n",
    "\n",
    "# Open PDF file\n",
    "pdf_file = \"./debu.pdf\"\n",
    "\n",
    "# Read PDF file\n",
    "doc = fitz.open(pdf_file)\n",
    "\n",
    "# Loop through each page\n",
    "for page_num in range(doc.page_count):\n",
    "\n",
    "    # Get page object\n",
    "    page = doc[page_num]\n",
    "\n",
    "    # Convert page to image\n",
    "    zoom = 2.0  # increase zoom from default for better resolution\n",
    "    pix = page.getPixmap(matrix=fitz.Matrix(zoom, zoom))\n",
    "\n",
    "    # Save image as PNG\n",
    "    output_folder = f\"page_{page_num+1}\"\n",
    "    if not os.path.exists(output_folder):\n",
    "        os.mkdir(output_folder)\n",
    "    output_file = f\"{output_folder}/page_{page_num+1}.png\"\n",
    "    pix.writePNG(output_file)\n",
    "\n",
    "# Close PDF file\n",
    "doc.close()\n"
   ]
  },
  {
   "cell_type": "code",
   "execution_count": 24,
   "metadata": {},
   "outputs": [
    {
     "name": "stdout",
     "output_type": "stream",
     "text": [
      "Collecting Wand\n",
      "  Downloading Wand-0.6.11-py2.py3-none-any.whl (143 kB)\n",
      "     -------------------------------------- 143.6/143.6 kB 2.1 MB/s eta 0:00:00\n",
      "Installing collected packages: Wand\n",
      "Successfully installed Wand-0.6.11\n",
      "Note: you may need to restart the kernel to use updated packages.\n"
     ]
    },
    {
     "name": "stderr",
     "output_type": "stream",
     "text": [
      "\n",
      "[notice] A new release of pip is available: 23.0 -> 23.1.2\n",
      "[notice] To update, run: python.exe -m pip install --upgrade pip\n"
     ]
    }
   ],
   "source": [
    "%pip install Wand"
   ]
  },
  {
   "cell_type": "code",
   "execution_count": null,
   "metadata": {},
   "outputs": [],
   "source": []
  },
  {
   "cell_type": "code",
   "execution_count": 1,
   "metadata": {},
   "outputs": [
    {
     "ename": "ImportError",
     "evalue": "MagickWand shared library not found.\nYou probably had not installed ImageMagick library.\nTry to install:\n  https://docs.wand-py.org/en/latest/guide/install.html#install-imagemagick-on-windows",
     "output_type": "error",
     "traceback": [
      "\u001b[1;31m---------------------------------------------------------------------------\u001b[0m",
      "\u001b[1;31mOSError\u001b[0m                                   Traceback (most recent call last)",
      "File \u001b[1;32mc:\\Users\\nikhi\\AppData\\Local\\Programs\\Python\\Python310\\lib\\site-packages\\wand\\api.py:154\u001b[0m, in \u001b[0;36m<module>\u001b[1;34m\u001b[0m\n\u001b[0;32m    153\u001b[0m \u001b[39mtry\u001b[39;00m:\n\u001b[1;32m--> 154\u001b[0m     libraries \u001b[39m=\u001b[39m load_library()\n\u001b[0;32m    155\u001b[0m \u001b[39mexcept\u001b[39;00m (\u001b[39mOSError\u001b[39;00m, \u001b[39mIOError\u001b[39;00m):\n",
      "File \u001b[1;32mc:\\Users\\nikhi\\AppData\\Local\\Programs\\Python\\Python310\\lib\\site-packages\\wand\\api.py:143\u001b[0m, in \u001b[0;36mload_library\u001b[1;34m()\u001b[0m\n\u001b[0;32m    142\u001b[0m     \u001b[39mreturn\u001b[39;00m libwand, libmagick\n\u001b[1;32m--> 143\u001b[0m \u001b[39mraise\u001b[39;00m \u001b[39mIOError\u001b[39;00m(\u001b[39m'\u001b[39m\u001b[39mcannot find library; tried paths: \u001b[39m\u001b[39m'\u001b[39m \u001b[39m+\u001b[39m \u001b[39mrepr\u001b[39m(tried_paths))\n",
      "\u001b[1;31mOSError\u001b[0m: cannot find library; tried paths: []",
      "\nDuring handling of the above exception, another exception occurred:\n",
      "\u001b[1;31mImportError\u001b[0m                               Traceback (most recent call last)",
      "\u001b[1;32md:\\TaskLabs\\PythonTools\\pdf2img\\test.ipynb Cell 7\u001b[0m in \u001b[0;36m<cell line: 2>\u001b[1;34m()\u001b[0m\n\u001b[0;32m      <a href='vscode-notebook-cell:/d%3A/TaskLabs/PythonTools/pdf2img/test.ipynb#X10sZmlsZQ%3D%3D?line=0'>1</a>\u001b[0m \u001b[39mimport\u001b[39;00m \u001b[39mos\u001b[39;00m\n\u001b[1;32m----> <a href='vscode-notebook-cell:/d%3A/TaskLabs/PythonTools/pdf2img/test.ipynb#X10sZmlsZQ%3D%3D?line=1'>2</a>\u001b[0m \u001b[39mfrom\u001b[39;00m \u001b[39mwand\u001b[39;00m\u001b[39m.\u001b[39;00m\u001b[39mimage\u001b[39;00m \u001b[39mimport\u001b[39;00m Image\n\u001b[0;32m      <a href='vscode-notebook-cell:/d%3A/TaskLabs/PythonTools/pdf2img/test.ipynb#X10sZmlsZQ%3D%3D?line=2'>3</a>\u001b[0m \u001b[39mfrom\u001b[39;00m \u001b[39mPyPDF2\u001b[39;00m \u001b[39mimport\u001b[39;00m PdfFileReader\n\u001b[0;32m      <a href='vscode-notebook-cell:/d%3A/TaskLabs/PythonTools/pdf2img/test.ipynb#X10sZmlsZQ%3D%3D?line=4'>5</a>\u001b[0m \u001b[39m# Open PDF file\u001b[39;00m\n",
      "File \u001b[1;32mc:\\Users\\nikhi\\AppData\\Local\\Programs\\Python\\Python310\\lib\\site-packages\\wand\\image.py:18\u001b[0m, in \u001b[0;36m<module>\u001b[1;34m\u001b[0m\n\u001b[0;32m     15\u001b[0m \u001b[39mimport\u001b[39;00m \u001b[39mnumbers\u001b[39;00m\n\u001b[0;32m     16\u001b[0m \u001b[39mimport\u001b[39;00m \u001b[39mweakref\u001b[39;00m\n\u001b[1;32m---> 18\u001b[0m \u001b[39mfrom\u001b[39;00m \u001b[39m.\u001b[39;00m \u001b[39mimport\u001b[39;00m assertions\n\u001b[0;32m     19\u001b[0m \u001b[39mfrom\u001b[39;00m \u001b[39m.\u001b[39;00m\u001b[39mapi\u001b[39;00m \u001b[39mimport\u001b[39;00m libc, libmagick, library\n\u001b[0;32m     20\u001b[0m \u001b[39mfrom\u001b[39;00m \u001b[39m.\u001b[39;00m\u001b[39mcolor\u001b[39;00m \u001b[39mimport\u001b[39;00m Color\n",
      "File \u001b[1;32mc:\\Users\\nikhi\\AppData\\Local\\Programs\\Python\\Python310\\lib\\site-packages\\wand\\assertions.py:155\u001b[0m, in \u001b[0;36m<module>\u001b[1;34m\u001b[0m\n\u001b[0;32m    151\u001b[0m     in_list(options, label, \u001b[39m*\u001b[39m\u001b[39m*\u001b[39mkwargs)\n\u001b[0;32m    154\u001b[0m \u001b[39m# Lazy load recursive import\u001b[39;00m\n\u001b[1;32m--> 155\u001b[0m \u001b[39mfrom\u001b[39;00m \u001b[39m.\u001b[39;00m\u001b[39mcolor\u001b[39;00m \u001b[39mimport\u001b[39;00m Color\n",
      "File \u001b[1;32mc:\\Users\\nikhi\\AppData\\Local\\Programs\\Python\\Python310\\lib\\site-packages\\wand\\color.py:10\u001b[0m, in \u001b[0;36m<module>\u001b[1;34m\u001b[0m\n\u001b[0;32m      7\u001b[0m \u001b[39mimport\u001b[39;00m \u001b[39mctypes\u001b[39;00m\n\u001b[0;32m      8\u001b[0m \u001b[39mimport\u001b[39;00m \u001b[39mnumbers\u001b[39;00m\n\u001b[1;32m---> 10\u001b[0m \u001b[39mfrom\u001b[39;00m \u001b[39m.\u001b[39;00m\u001b[39mapi\u001b[39;00m \u001b[39mimport\u001b[39;00m library\n\u001b[0;32m     11\u001b[0m \u001b[39mfrom\u001b[39;00m \u001b[39m.\u001b[39;00m\u001b[39mcdefs\u001b[39;00m\u001b[39m.\u001b[39;00m\u001b[39mstructures\u001b[39;00m \u001b[39mimport\u001b[39;00m MagickPixelPacket, PixelInfo\n\u001b[0;32m     12\u001b[0m \u001b[39mfrom\u001b[39;00m \u001b[39m.\u001b[39;00m\u001b[39mcompat\u001b[39;00m \u001b[39mimport\u001b[39;00m binary, text\n",
      "File \u001b[1;32mc:\\Users\\nikhi\\AppData\\Local\\Programs\\Python\\Python310\\lib\\site-packages\\wand\\api.py:178\u001b[0m, in \u001b[0;36m<module>\u001b[1;34m\u001b[0m\n\u001b[0;32m    176\u001b[0m         \u001b[39melif\u001b[39;00m distname \u001b[39min\u001b[39;00m (\u001b[39m'\u001b[39m\u001b[39mfedora\u001b[39m\u001b[39m'\u001b[39m, \u001b[39m'\u001b[39m\u001b[39mcentos\u001b[39m\u001b[39m'\u001b[39m, \u001b[39m'\u001b[39m\u001b[39mredhat\u001b[39m\u001b[39m'\u001b[39m):\n\u001b[0;32m    177\u001b[0m             msg \u001b[39m=\u001b[39m \u001b[39m'\u001b[39m\u001b[39myum install ImageMagick-devel\u001b[39m\u001b[39m'\u001b[39m\n\u001b[1;32m--> 178\u001b[0m     \u001b[39mraise\u001b[39;00m \u001b[39mImportError\u001b[39;00m(\u001b[39m'\u001b[39m\u001b[39mMagickWand shared library not found.\u001b[39m\u001b[39m\\n\u001b[39;00m\u001b[39m'\u001b[39m\n\u001b[0;32m    179\u001b[0m                       \u001b[39m'\u001b[39m\u001b[39mYou probably had not installed ImageMagick library.\u001b[39m\u001b[39m\\n\u001b[39;00m\u001b[39m'\u001b[39m\n\u001b[0;32m    180\u001b[0m                       \u001b[39m'\u001b[39m\u001b[39mTry to install:\u001b[39m\u001b[39m\\n\u001b[39;00m\u001b[39m  \u001b[39m\u001b[39m'\u001b[39m \u001b[39m+\u001b[39m msg)\n\u001b[0;32m    182\u001b[0m \u001b[39m#: (:class:`ctypes.CDLL`) The MagickWand library.\u001b[39;00m\n\u001b[0;32m    183\u001b[0m library \u001b[39m=\u001b[39m libraries[\u001b[39m0\u001b[39m]\n",
      "\u001b[1;31mImportError\u001b[0m: MagickWand shared library not found.\nYou probably had not installed ImageMagick library.\nTry to install:\n  https://docs.wand-py.org/en/latest/guide/install.html#install-imagemagick-on-windows"
     ]
    }
   ],
   "source": [
    "import os\n",
    "from wand.image import Image\n",
    "from PyPDF2 import PdfFileReader\n",
    "\n",
    "# Open PDF file\n",
    "pdf_file = open('./debu.pdf', 'rb')\n",
    "\n",
    "# Read PDF file\n",
    "pdf_reader = PdfFileReader(pdf_file)\n",
    "\n",
    "# Loop through each page\n",
    "for page_num in range(pdf_reader.numPages):\n",
    "\n",
    "    # Get page object\n",
    "    page = pdf_reader.getPage(page_num)\n",
    "\n",
    "    # Convert page to image\n",
    "    with Image(file=pdf_file, resolution=300) as img:\n",
    "        img.compression_quality = 90\n",
    "        img.format = 'jpeg'\n",
    "        img_seq = img.sequence[page_num]\n",
    "        image = Image(image=img_seq)\n",
    "\n",
    "        # Save image\n",
    "        image.save(filename=f'page{page_num+1}.jpeg')\n",
    "\n",
    "# Close PDF file\n",
    "pdf_file.close()\n"
   ]
  },
  {
   "cell_type": "code",
   "execution_count": 7,
   "metadata": {},
   "outputs": [],
   "source": [
    "import random\n",
    "import os\n",
    "import shutil\n",
    "from io import BytesIO\n",
    "import fitz\n",
    "import mimetypes"
   ]
  },
  {
   "cell_type": "code",
   "execution_count": null,
   "metadata": {},
   "outputs": [],
   "source": [
    "import random\n",
    "import os\n",
    "import shutil\n",
    "from io import BytesIO\n",
    "import fitz\n",
    "import mimetypes\n",
    "\n",
    "\n",
    "def main():\n",
    "    global download_location, not_removed\n",
    "    download_location, not_removed = pdf_resizer(\n",
    "        'pdf-encryptor', convertables)\n",
    "    not_removed = not_convertable.to_py()+not_removed\n",
    "    print(type(download_location), type(not_removed))\n",
    "    if download_location:\n",
    "        mime = mimetypes.guess_type(download_location)[0]\n",
    "        print(mime)\n",
    "        with open(download_location, \"rb\") as f:\n",
    "            file_content = f.read()\n",
    "        downloadFile(file_content, download_location.split('/')[-1], mime)\n",
    "\n",
    "\n",
    "def empty_root_folder():\n",
    "    for item in os.listdir():\n",
    "        if os.path.isfile(item):\n",
    "            os.remove(item)\n",
    "        else:\n",
    "            shutil.rmtree(item)\n",
    "\n",
    "\n",
    "def pdf_resizer(folder_name, convertables):\n",
    "    empty_root_folder()\n",
    "    os.makedirs(f'{folder_name}')\n",
    "    not_removed = []\n",
    "    print(len(convertables))\n",
    "    if len(convertables):\n",
    "        length = len(convertables)\n",
    "        for i in range(length):\n",
    "            file_name, bin_str = convertables[i]\n",
    "            bytes_obj = BytesIO(bytes(bin_str, encoding=\"raw_unicode_escape\"))\n",
    "            try:\n",
    "                doc = fitz.open(bytes_obj)\n",
    "\n",
    "                # Iterate through pages and convert each page to a PNG image\n",
    "                for i in range(doc.page_count):\n",
    "                    page = doc.load_page(i)\n",
    "                    pix = page.get_pixmap()\n",
    "                    output_file = f\"folder_name/page_{i+1}.png\"\n",
    "                    pix.save(output_file)\n",
    "\n",
    "                    # Close the PDF file\n",
    "                    doc.close()\n",
    "\n",
    "            except Exception as e:\n",
    "                print(\"entered exception\")\n",
    "                not_removed.append(f\"{file_name}\")\n",
    "                print(e)\n",
    "                continue\n",
    "    else:\n",
    "        not_removed = [file_name for file_name, bin_str in convertables]\n",
    "        print(\"length mismatch\")\n",
    "\n",
    "    convertables_in_dir = [f for f in os.listdir(\n",
    "        f\"{folder_name}\") if f\"{f}\"[0].isalnum()]\n",
    "    print(convertables_in_dir)\n",
    "    total_convertables = len(convertables_in_dir)\n",
    "    downloadable_location = None\n",
    "    if total_files > 1:\n",
    "        shutil.make_archive(f\"{folder_name}\", \"zip\", f\"{folder_name}\")\n",
    "        shutil.rmtree(f\"{folder_name}\")\n",
    "        downloadable_location = f\"{folder_name}.zip\"\n",
    "    elif total_files == 1:\n",
    "        downloadable_location = f\"{folder_name}/{files_in_dir[0]}\"\n",
    "    else:\n",
    "        shutil.rmtree(f\"{folder_name}\")\n",
    "    print(\"not_converted: \", not_removed)\n",
    "    return [downloadable_location, not_removed]\n",
    "\n",
    "\n",
    "main()\n"
   ]
  }
 ],
 "metadata": {
  "kernelspec": {
   "display_name": "Python 3",
   "language": "python",
   "name": "python3"
  },
  "language_info": {
   "codemirror_mode": {
    "name": "ipython",
    "version": 3
   },
   "file_extension": ".py",
   "mimetype": "text/x-python",
   "name": "python",
   "nbconvert_exporter": "python",
   "pygments_lexer": "ipython3",
   "version": "3.10.9"
  },
  "orig_nbformat": 4
 },
 "nbformat": 4,
 "nbformat_minor": 2
}
