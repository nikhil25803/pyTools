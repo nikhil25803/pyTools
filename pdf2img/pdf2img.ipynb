{
 "cells": [
  {
   "cell_type": "code",
   "execution_count": null,
   "metadata": {},
   "outputs": [],
   "source": [
    "# Large Wheel Size -> Working Fine\n",
    "%pip install PyMuPDF "
   ]
  },
  {
   "cell_type": "code",
   "execution_count": null,
   "metadata": {},
   "outputs": [],
   "source": [
    "import fitz\n",
    "# Open the PDF file\n",
    "pdf_file = \"./SQLPracticeQuestions.pdf\"\n",
    "doc = fitz.open(pdf_file)\n",
    "\n",
    "# Iterate through pages and convert each page to a PNG image\n",
    "for i in range(doc.page_count):\n",
    "    page = doc.load_page(i)\n",
    "    pix = page.get_pixmap()\n",
    "    output_file = f\"./imgs/page_{i+1}.png\"\n",
    "    pix.save(output_file)\n",
    "\n",
    "# Close the PDF file\n",
    "doc.close()"
   ]
  },
  {
   "cell_type": "code",
   "execution_count": null,
   "metadata": {},
   "outputs": [],
   "source": [
    "# Using PyPDF2\n",
    "\n",
    "import os\n",
    "from io import BytesIO\n",
    "from PIL import Image\n",
    "from PyPDF2 import PdfFileReader\n",
    "\n",
    "# Open PDF file\n",
    "pdf_file = open('./debu.pdf', 'rb')\n",
    "\n",
    "# Read PDF file\n",
    "pdf_reader = PdfFileReader(pdf_file)\n",
    "\n",
    "# Loop through each page\n",
    "for page_num in range(pdf_reader.numPages):\n",
    "\n",
    "    # Get page object\n",
    "    page = pdf_reader.getPage(page_num)\n",
    "\n",
    "    # Check if page is an image\n",
    "    resources = page.get('/Resources', {})\n",
    "    xobjects = resources.get('/XObject', {})\n",
    "    for obj_name, obj_ref in xobjects.items():\n",
    "        obj = obj_ref.getObject()\n",
    "        if obj.get('/Subtype') == '/Image':\n",
    "            # Convert image to PIL Image object\n",
    "            width = obj['/Width']\n",
    "            height = obj['/Height']\n",
    "            data = obj.getData()\n",
    "            image = Image.frombytes('RGB', (width, height), data)\n",
    "\n",
    "            # Save image as PNG\n",
    "            image.save(f'imgs/page{page_num+1}.png', 'PNG')\n",
    "            break\n",
    "\n",
    "# Close PDF file\n",
    "pdf_file.close()\n"
   ]
  }
 ],
 "metadata": {
  "language_info": {
   "name": "python"
  },
  "orig_nbformat": 4
 },
 "nbformat": 4,
 "nbformat_minor": 2
}
