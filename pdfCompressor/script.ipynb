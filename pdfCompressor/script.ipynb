{
 "cells": [
  {
   "cell_type": "code",
   "execution_count": 1,
   "metadata": {},
   "outputs": [],
   "source": [
    "from PyPDF2 import PdfReader, PdfWriter\n",
    "\n",
    "reader = PdfReader(\"../debu.pdf\")\n",
    "writer = PdfWriter()\n",
    "\n",
    "for page in reader.pages:\n",
    "    page.compress_content_streams()  # This is CPU intensive!\n",
    "    writer.add_page(page)\n",
    "\n",
    "with open(\"out.pdf\", \"wb\") as f:\n",
    "    writer.write(f)"
   ]
  },
  {
   "cell_type": "code",
   "execution_count": 7,
   "metadata": {},
   "outputs": [],
   "source": [
    "import PyPDF2\n",
    "\n",
    "# Open the PDF file in binary mode\n",
    "with open('../debu.pdf', 'rb') as file:\n",
    "    # Create a PDF reader object\n",
    "    pdf_reader = PyPDF2.PdfReader(file)\n",
    "\n",
    "    # Create a PDF writer object\n",
    "    pdf_writer = PyPDF2.PdfWriter()\n",
    "\n",
    "    # Iterate over all pages in the PDF document\n",
    "    for page_num in range(len(pdf_reader.pages)):\n",
    "        # Get the page object\n",
    "        page_obj = pdf_reader.pages[page_num]\n",
    "\n",
    "        # Compress the page\n",
    "        page_obj.compress_content_streams()\n",
    "\n",
    "        # Add the compressed page to the PDF writer object\n",
    "        pdf_writer.add_page(page_obj)\n",
    "\n",
    "    # Open a new file to write the compressed PDF data\n",
    "    with open('output.pdf', 'wb') as output_file:\n",
    "        # Write the compressed PDF data to the output file\n",
    "        pdf_writer.write(output_file)\n"
   ]
  },
  {
   "cell_type": "code",
   "execution_count": 34,
   "metadata": {},
   "outputs": [
    {
     "ename": "EmptyFileError",
     "evalue": "Cannot read an empty file",
     "output_type": "error",
     "traceback": [
      "\u001b[1;31m---------------------------------------------------------------------------\u001b[0m",
      "\u001b[1;31mEmptyFileError\u001b[0m                            Traceback (most recent call last)",
      "\u001b[1;32md:\\TaskLabs\\PythonTools\\pdfCompressor\\script.ipynb Cell 3\u001b[0m in \u001b[0;36m<cell line: 22>\u001b[1;34m()\u001b[0m\n\u001b[0;32m     <a href='vscode-notebook-cell:/d%3A/TaskLabs/PythonTools/pdfCompressor/script.ipynb#W3sZmlsZQ%3D%3D?line=18'>19</a>\u001b[0m         \u001b[39mwith\u001b[39;00m \u001b[39mopen\u001b[39m(\u001b[39m'\u001b[39m\u001b[39moutput.pdf\u001b[39m\u001b[39m'\u001b[39m, \u001b[39m'\u001b[39m\u001b[39mwb\u001b[39m\u001b[39m'\u001b[39m) \u001b[39mas\u001b[39;00m output_file:\n\u001b[0;32m     <a href='vscode-notebook-cell:/d%3A/TaskLabs/PythonTools/pdfCompressor/script.ipynb#W3sZmlsZQ%3D%3D?line=19'>20</a>\u001b[0m             \u001b[39m# Write the compressed PDF data to the output file\u001b[39;00m\n\u001b[0;32m     <a href='vscode-notebook-cell:/d%3A/TaskLabs/PythonTools/pdfCompressor/script.ipynb#W3sZmlsZQ%3D%3D?line=20'>21</a>\u001b[0m             pdf_writer\u001b[39m.\u001b[39mwrite(output_file)\n\u001b[1;32m---> <a href='vscode-notebook-cell:/d%3A/TaskLabs/PythonTools/pdfCompressor/script.ipynb#W3sZmlsZQ%3D%3D?line=21'>22</a>\u001b[0m compress_pdf_with_pypdf2(\u001b[39m\"\u001b[39;49m\u001b[39m../debu.pdf\u001b[39;49m\u001b[39m\"\u001b[39;49m)\n",
      "\u001b[1;32md:\\TaskLabs\\PythonTools\\pdfCompressor\\script.ipynb Cell 3\u001b[0m in \u001b[0;36mcompress_pdf_with_pypdf2\u001b[1;34m(input_path)\u001b[0m\n\u001b[0;32m     <a href='vscode-notebook-cell:/d%3A/TaskLabs/PythonTools/pdfCompressor/script.ipynb#W3sZmlsZQ%3D%3D?line=13'>14</a>\u001b[0m     page\u001b[39m.\u001b[39mcompress_content_streams()\n\u001b[0;32m     <a href='vscode-notebook-cell:/d%3A/TaskLabs/PythonTools/pdfCompressor/script.ipynb#W3sZmlsZQ%3D%3D?line=14'>15</a>\u001b[0m     compressed_page \u001b[39m=\u001b[39m pdf_writer\u001b[39m.\u001b[39madd_blank_page(\n\u001b[0;32m     <a href='vscode-notebook-cell:/d%3A/TaskLabs/PythonTools/pdfCompressor/script.ipynb#W3sZmlsZQ%3D%3D?line=15'>16</a>\u001b[0m         page\u001b[39m.\u001b[39mmediabox\u001b[39m.\u001b[39mwidth, page\u001b[39m.\u001b[39mmediabox\u001b[39m.\u001b[39mheight)\n\u001b[1;32m---> <a href='vscode-notebook-cell:/d%3A/TaskLabs/PythonTools/pdfCompressor/script.ipynb#W3sZmlsZQ%3D%3D?line=16'>17</a>\u001b[0m     compressed_page\u001b[39m.\u001b[39mmerge_page(PdfReader(page_content)\u001b[39m.\u001b[39mread(\u001b[39m0\u001b[39m))\n\u001b[0;32m     <a href='vscode-notebook-cell:/d%3A/TaskLabs/PythonTools/pdfCompressor/script.ipynb#W3sZmlsZQ%3D%3D?line=18'>19</a>\u001b[0m \u001b[39mwith\u001b[39;00m \u001b[39mopen\u001b[39m(\u001b[39m'\u001b[39m\u001b[39moutput.pdf\u001b[39m\u001b[39m'\u001b[39m, \u001b[39m'\u001b[39m\u001b[39mwb\u001b[39m\u001b[39m'\u001b[39m) \u001b[39mas\u001b[39;00m output_file:\n\u001b[0;32m     <a href='vscode-notebook-cell:/d%3A/TaskLabs/PythonTools/pdfCompressor/script.ipynb#W3sZmlsZQ%3D%3D?line=19'>20</a>\u001b[0m     \u001b[39m# Write the compressed PDF data to the output file\u001b[39;00m\n\u001b[0;32m     <a href='vscode-notebook-cell:/d%3A/TaskLabs/PythonTools/pdfCompressor/script.ipynb#W3sZmlsZQ%3D%3D?line=20'>21</a>\u001b[0m     pdf_writer\u001b[39m.\u001b[39mwrite(output_file)\n",
      "File \u001b[1;32mc:\\Users\\nikhi\\AppData\\Local\\Programs\\Python\\Python310\\lib\\site-packages\\PyPDF2\\_reader.py:319\u001b[0m, in \u001b[0;36mPdfReader.__init__\u001b[1;34m(self, stream, strict, password)\u001b[0m\n\u001b[0;32m    317\u001b[0m     \u001b[39mwith\u001b[39;00m \u001b[39mopen\u001b[39m(stream, \u001b[39m\"\u001b[39m\u001b[39mrb\u001b[39m\u001b[39m\"\u001b[39m) \u001b[39mas\u001b[39;00m fh:\n\u001b[0;32m    318\u001b[0m         stream \u001b[39m=\u001b[39m BytesIO(fh\u001b[39m.\u001b[39mread())\n\u001b[1;32m--> 319\u001b[0m \u001b[39mself\u001b[39;49m\u001b[39m.\u001b[39;49mread(stream)\n\u001b[0;32m    320\u001b[0m \u001b[39mself\u001b[39m\u001b[39m.\u001b[39mstream \u001b[39m=\u001b[39m stream\n\u001b[0;32m    322\u001b[0m \u001b[39mself\u001b[39m\u001b[39m.\u001b[39m_override_encryption \u001b[39m=\u001b[39m \u001b[39mFalse\u001b[39;00m\n",
      "File \u001b[1;32mc:\\Users\\nikhi\\AppData\\Local\\Programs\\Python\\Python310\\lib\\site-packages\\PyPDF2\\_reader.py:1414\u001b[0m, in \u001b[0;36mPdfReader.read\u001b[1;34m(self, stream)\u001b[0m\n\u001b[0;32m   1413\u001b[0m \u001b[39mdef\u001b[39;00m \u001b[39mread\u001b[39m(\u001b[39mself\u001b[39m, stream: StreamType) \u001b[39m-\u001b[39m\u001b[39m>\u001b[39m \u001b[39mNone\u001b[39;00m:\n\u001b[1;32m-> 1414\u001b[0m     \u001b[39mself\u001b[39;49m\u001b[39m.\u001b[39;49m_basic_validation(stream)\n\u001b[0;32m   1415\u001b[0m     \u001b[39mself\u001b[39m\u001b[39m.\u001b[39m_find_eof_marker(stream)\n\u001b[0;32m   1416\u001b[0m     startxref \u001b[39m=\u001b[39m \u001b[39mself\u001b[39m\u001b[39m.\u001b[39m_find_startxref_pos(stream)\n",
      "File \u001b[1;32mc:\\Users\\nikhi\\AppData\\Local\\Programs\\Python\\Python310\\lib\\site-packages\\PyPDF2\\_reader.py:1455\u001b[0m, in \u001b[0;36mPdfReader._basic_validation\u001b[1;34m(self, stream)\u001b[0m\n\u001b[0;32m   1453\u001b[0m stream\u001b[39m.\u001b[39mseek(\u001b[39m0\u001b[39m, os\u001b[39m.\u001b[39mSEEK_END)\n\u001b[0;32m   1454\u001b[0m \u001b[39mif\u001b[39;00m \u001b[39mnot\u001b[39;00m stream\u001b[39m.\u001b[39mtell():\n\u001b[1;32m-> 1455\u001b[0m     \u001b[39mraise\u001b[39;00m EmptyFileError(\u001b[39m\"\u001b[39m\u001b[39mCannot read an empty file\u001b[39m\u001b[39m\"\u001b[39m)\n\u001b[0;32m   1456\u001b[0m \u001b[39mif\u001b[39;00m \u001b[39mself\u001b[39m\u001b[39m.\u001b[39mstrict:\n\u001b[0;32m   1457\u001b[0m     stream\u001b[39m.\u001b[39mseek(\u001b[39m0\u001b[39m, os\u001b[39m.\u001b[39mSEEK_SET)\n",
      "\u001b[1;31mEmptyFileError\u001b[0m: Cannot read an empty file"
     ]
    }
   ],
   "source": [
    "import io\n",
    "from PyPDF2 import PdfReader, PdfWriter\n",
    "import zlib\n",
    "\n",
    "\n",
    "def compress_pdf_with_pypdf2(input_path):\n",
    "    with open(input_path, 'rb') as f:\n",
    "        pdf_reader = PdfReader(f)\n",
    "        pdf_writer = PdfWriter()\n",
    "\n",
    "        for i in range(len(pdf_reader.pages)):\n",
    "            page = pdf_reader.pages[i]\n",
    "            page_content = io.BytesIO()\n",
    "            page.compress_content_streams()\n",
    "            compressed_page = pdf_writer.add_blank_page(\n",
    "                page.mediabox.width, page.mediabox.height)\n",
    "            compressed_page.merge_page(PdfReader(page_content).read(0))\n",
    "\n",
    "        with open('output.pdf', 'wb') as output_file:\n",
    "            # Write the compressed PDF data to the output file\n",
    "            pdf_writer.write(output_file)\n",
    "compress_pdf_with_pypdf2(\"../debu.pdf\")"
   ]
  },
  {
   "cell_type": "code",
   "execution_count": null,
   "metadata": {},
   "outputs": [],
   "source": []
  }
 ],
 "metadata": {
  "kernelspec": {
   "display_name": "Python 3",
   "language": "python",
   "name": "python3"
  },
  "language_info": {
   "codemirror_mode": {
    "name": "ipython",
    "version": 3
   },
   "file_extension": ".py",
   "mimetype": "text/x-python",
   "name": "python",
   "nbconvert_exporter": "python",
   "pygments_lexer": "ipython3",
   "version": "3.10.9"
  },
  "orig_nbformat": 4
 },
 "nbformat": 4,
 "nbformat_minor": 2
}
