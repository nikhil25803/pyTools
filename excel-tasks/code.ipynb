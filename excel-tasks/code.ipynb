{
 "cells": [
  {
   "cell_type": "code",
   "execution_count": 1,
   "metadata": {},
   "outputs": [
    {
     "name": "stdout",
     "output_type": "stream",
     "text": [
      "Requirement already satisfied: openpyxl in c:\\python311\\lib\\site-packages (3.1.2)\n",
      "Requirement already satisfied: et-xmlfile in c:\\python311\\lib\\site-packages (from openpyxl) (1.1.0)\n"
     ]
    },
    {
     "name": "stderr",
     "output_type": "stream",
     "text": [
      "\n",
      "[notice] A new release of pip available: 22.3.1 -> 23.1.2\n",
      "[notice] To update, run: C:\\Python311\\python.exe -m pip install --upgrade pip\n"
     ]
    }
   ],
   "source": [
    "!pip install openpyxl"
   ]
  },
  {
   "cell_type": "code",
   "execution_count": 10,
   "metadata": {},
   "outputs": [
    {
     "name": "stdout",
     "output_type": "stream",
     "text": [
      "Name\n"
     ]
    }
   ],
   "source": [
    "from openpyxl import load_workbook\n",
    "\n",
    "# Specify the file path and sheet name\n",
    "file_path = './testFIle.xlsx'\n",
    "sheet_name = 'Sheet1'\n",
    "\n",
    "try:\n",
    "    # Load the Excel file\n",
    "    workbook = load_workbook(filename=file_path, read_only=True)\n",
    "\n",
    "    # Select the sheet by name\n",
    "    sheet = workbook[sheet_name]\n",
    "\n",
    "    # Fetch the headers (column names)\n",
    "    headers = next(sheet.iter_rows(min_row=1, max_row=1, values_only=True))\n",
    "\n",
    "    # Print the headers\n",
    "    print(headers)\n",
    "except Exception as e:\n",
    "    print(f\"Error while reading the : {str(e)}\")\n",
    "\n"
   ]
  },
  {
   "cell_type": "code",
   "execution_count": 12,
   "metadata": {},
   "outputs": [
    {
     "name": "stdout",
     "output_type": "stream",
     "text": [
      "[('Name', 'Task', 'Topics', 'Task Condition'), ('Nikhil', 'Write an email', 'about catchup on sudnay', 'language: English'), ('Gandhi', 'Write a bio', 'Gandhi was born on 2 October', 'language: English')]\n"
     ]
    }
   ],
   "source": [
    "# Extracting each row as a list\n",
    "from openpyxl import load_workbook\n",
    "\n",
    "# Specify the file path and sheet name\n",
    "file_path = './testFIle.xlsx'\n",
    "sheet_name = 'Sheet1'\n",
    "\n",
    "try:\n",
    "    # Load the Excel file\n",
    "    workbook = load_workbook(filename=file_path, read_only=True)\n",
    "\n",
    "    # Select the sheet by name\n",
    "    sheet = workbook[sheet_name]\n",
    "\n",
    "    # Fetch each row as a list\n",
    "    rows = sheet.iter_rows(values_only=True)\n",
    "\n",
    "    # Process each row\n",
    "    print(list(rows))\n",
    "\n",
    "except FileNotFoundError:\n",
    "    print(f\"File '{file_path}' not found.\")\n",
    "except KeyError:\n",
    "    print(f\"Sheet '{sheet_name}' not found in the file.\")\n",
    "except Exception as e:\n",
    "    print(f\"An error occurred: {str(e)}\")\n"
   ]
  },
  {
   "cell_type": "code",
   "execution_count": 13,
   "metadata": {},
   "outputs": [
    {
     "name": "stdout",
     "output_type": "stream",
     "text": [
      "Collecting pandas\n",
      "  Downloading pandas-2.0.2-cp311-cp311-win_amd64.whl (10.6 MB)\n",
      "     ---------------------------------------- 10.6/10.6 MB 3.3 MB/s eta 0:00:00\n",
      "Requirement already satisfied: python-dateutil>=2.8.2 in c:\\users\\nikhi\\appdata\\roaming\\python\\python311\\site-packages (from pandas) (2.8.2)\n",
      "Collecting pytz>=2020.1\n",
      "  Downloading pytz-2023.3-py2.py3-none-any.whl (502 kB)\n",
      "     -------------------------------------- 502.3/502.3 kB 4.5 MB/s eta 0:00:00\n",
      "Collecting tzdata>=2022.1\n",
      "  Downloading tzdata-2023.3-py2.py3-none-any.whl (341 kB)\n",
      "     -------------------------------------- 341.8/341.8 kB 4.3 MB/s eta 0:00:00\n",
      "Collecting numpy>=1.21.0\n",
      "  Downloading numpy-1.24.3-cp311-cp311-win_amd64.whl (14.8 MB)\n",
      "     ---------------------------------------- 14.8/14.8 MB 4.7 MB/s eta 0:00:00\n",
      "Requirement already satisfied: six>=1.5 in c:\\users\\nikhi\\appdata\\roaming\\python\\python311\\site-packages (from python-dateutil>=2.8.2->pandas) (1.16.0)\n",
      "Installing collected packages: pytz, tzdata, numpy, pandas\n"
     ]
    },
    {
     "name": "stderr",
     "output_type": "stream",
     "text": [
      "  WARNING: Failed to write executable - trying to use .deleteme logic\n",
      "ERROR: Could not install packages due to an OSError: [WinError 2] The system cannot find the file specified: 'C:\\\\Python311\\\\Scripts\\\\f2py.exe' -> 'C:\\\\Python311\\\\Scripts\\\\f2py.exe.deleteme'\n",
      "\n",
      "\n",
      "[notice] A new release of pip available: 22.3.1 -> 23.1.2\n",
      "[notice] To update, run: C:\\Python311\\python.exe -m pip install --upgrade pip\n"
     ]
    }
   ],
   "source": [
    "!pip install pandas"
   ]
  },
  {
   "cell_type": "code",
   "execution_count": 14,
   "metadata": {},
   "outputs": [],
   "source": [
    "import pandas as pd"
   ]
  },
  {
   "cell_type": "code",
   "execution_count": 23,
   "metadata": {},
   "outputs": [
    {
     "data": {
      "text/plain": [
       "['Name', 'Task', 'Topics', 'Task Condition']"
      ]
     },
     "execution_count": 23,
     "metadata": {},
     "output_type": "execute_result"
    }
   ],
   "source": [
    "xlsx_file = pd.read_excel(\"./testFIle.xlsx\")\n",
    "headers = xlsx_file.columns.tolist()\n",
    "headers"
   ]
  },
  {
   "cell_type": "code",
   "execution_count": 24,
   "metadata": {},
   "outputs": [
    {
     "data": {
      "text/plain": [
       "[['Nikhil', 'Write an email', 'about catchup on sudnay', 'language: English'],\n",
       " ['Gandhi',\n",
       "  'Write a bio',\n",
       "  'Gandhi was born on 2 October',\n",
       "  'language: English']]"
      ]
     },
     "execution_count": 24,
     "metadata": {},
     "output_type": "execute_result"
    }
   ],
   "source": [
    "data_list = xlsx_file.values.tolist()\n",
    "data_list"
   ]
  },
  {
   "cell_type": "code",
   "execution_count": 28,
   "metadata": {},
   "outputs": [
    {
     "data": {
      "text/plain": [
       "[{'Name': 'Nikhil',\n",
       "  'Task': 'Write an email',\n",
       "  'Topics': 'about catchup on sudnay',\n",
       "  'Task Condition': 'language: English'},\n",
       " {'Name': 'Gandhi',\n",
       "  'Task': 'Write a bio',\n",
       "  'Topics': 'Gandhi was born on 2 October',\n",
       "  'Task Condition': 'language: English'}]"
      ]
     },
     "execution_count": 28,
     "metadata": {},
     "output_type": "execute_result"
    }
   ],
   "source": [
    "taks_obj = []\n",
    "if len(headers) == len(data_list[0]):\n",
    "    for data in range(len(data_list)):\n",
    "        obj={}\n",
    "        for tasks in range(len(data_list[data])):\n",
    "            obj[f\"{headers[tasks]}\"] = data_list[data][tasks]\n",
    "        taks_obj.append(obj)\n",
    "taks_obj\n",
    "\n"
   ]
  },
  {
   "cell_type": "code",
   "execution_count": 34,
   "metadata": {},
   "outputs": [
    {
     "name": "stdout",
     "output_type": "stream",
     "text": [
      "Prompts for every task obj is: \n",
      "\n"
     ]
    },
    {
     "data": {
      "text/plain": [
       "['Do the task of Write an email for Nikhil on the topics about catchup on sudnay with the condition given as language: English.',\n",
       " 'Do the task of Write a bio for Gandhi on the topics Gandhi was born on 2 October with the condition given as language: English.']"
      ]
     },
     "execution_count": 34,
     "metadata": {},
     "output_type": "execute_result"
    }
   ],
   "source": [
    "\n",
    "# prompt = f\"Do the task of '{task}' for '{name}' on the topics of '{topics}' with the condition '{task_condition}'.\"\n",
    "\n",
    "prompt = f\"Do the task of '{headers[1]}' for '{headers[0]}' on the topics of '{headers[2]}' with the condition '{headers[3]}'.\"\n",
    "\n",
    "prompt_list = []\n",
    "print(\"Prompts for every task obj is: \\n\")\n",
    "for i in range(len(taks_obj)):\n",
    "    obj = taks_obj[i]\n",
    "\n",
    "    prompt = f\"Do the task of {obj['Task']} for {obj['Name']} on the topics {obj['Topics']} with the condition given as {obj['Task Condition']}.\"\n",
    "    prompt_list.append(prompt)\n",
    "    \n",
    "prompt_list\n"
   ]
  },
  {
   "cell_type": "code",
   "execution_count": 5,
   "metadata": {},
   "outputs": [
    {
     "name": "stdout",
     "output_type": "stream",
     "text": [
      "{'error': {'message': 'Unrecognized request argument supplied: messages', 'type': 'invalid_request_error', 'param': None, 'code': None}}\n"
     ]
    }
   ],
   "source": [
    "import requests\n",
    "\n",
    "url = \"https://api.openai.com/v1/completions\"\n",
    "headers = {\n",
    "    \"Content-Type\": \"application/json\",\n",
    "    \"Authorization\": \"Bearer \"\n",
    "}\n",
    "\n",
    "data = {\n",
    "    \"model\": \"text-davinci-003\",\n",
    "    \"messages\": [{\"role\": \"user\", \"content\": \"Say this is a test!\"}],\n",
    "    \"temperature\": 0.7\n",
    "}\n",
    "\n",
    "response = requests.post(url, headers=headers, json=data)\n",
    "print(response.json())\n"
   ]
  },
  {
   "cell_type": "code",
   "execution_count": 7,
   "metadata": {},
   "outputs": [
    {
     "name": "stdout",
     "output_type": "stream",
     "text": [
      "Response: \n",
      "\n",
      "Subject: Catch Up On Sunday\n",
      "\n",
      "Dear Nikhil,\n",
      "\n",
      "I hope you're doing well. I'm writing this email because I wanted to catch up with you on Sunday. We haven't seen each other in a while, and I would love to hear how you're doing.\n",
      "\n",
      "If Sunday works for you, let me know what time and where you'd like to meet. I'm flexible, so whatever works best for you is fine with me.\n",
      "\n",
      "I\n"
     ]
    }
   ],
   "source": [
    "import requests\n",
    "\n",
    "# Set your OpenAI API credentials\n",
    "api_key = \"\"\n",
    "\n",
    "# Set the endpoint URL\n",
    "url = \"https://api.openai.com/v1/engines/text-davinci-003/completions\"\n",
    "\n",
    "# Set the prompt for the conversation\n",
    "prompt = \"Do the task of Write an email for Nikhil on the topics about catchup on sudnay with the condition given as language: English.\"\n",
    "\n",
    "# Set other parameters\n",
    "temperature = 0.7\n",
    "max_tokens = 100\n",
    "\n",
    "# Set the headers\n",
    "headers = {\n",
    "    \"Content-Type\": \"application/json\",\n",
    "    \"Authorization\": f\"Bearer {api_key}\"\n",
    "}\n",
    "\n",
    "# Set the data\n",
    "data = {\n",
    "    \"prompt\": prompt,\n",
    "    \"temperature\": temperature,\n",
    "    \"max_tokens\": max_tokens\n",
    "}\n",
    "\n",
    "# Send the request\n",
    "response = requests.post(url, headers=headers, json=data)\n",
    "\n",
    "# Process the response\n",
    "if response.status_code == 200:\n",
    "    result = response.json()\n",
    "    completion = result[\"choices\"][0][\"text\"]\n",
    "    print(\"Response:\", completion)\n",
    "else:\n",
    "    print(\"Error:\", response.status_code, response.text)\n"
   ]
  },
  {
   "attachments": {},
   "cell_type": "markdown",
   "metadata": {},
   "source": [
    "### Final Script"
   ]
  },
  {
   "cell_type": "code",
   "execution_count": null,
   "metadata": {},
   "outputs": [],
   "source": [
    "# Imports\n",
    "import pandas as pd\n",
    "import requests\n",
    "\n",
    "\n",
    "xlsx_file = pd.read_excel(\"./testFIle.xlsx\")\n",
    "\n",
    "# Extracting the Columns\n",
    "headers = xlsx_file.columns.tolist()\n",
    "\n",
    "# List of rows with data\n",
    "data_list = xlsx_file.values.tolist()\n",
    "\n",
    "# Create a task object to curate all stuffs at a place\n",
    "taks_obj = []\n",
    "if len(headers) == len(data_list[0]):\n",
    "    for data in range(len(data_list)):\n",
    "        obj={}\n",
    "        for tasks in range(len(data_list[data])):\n",
    "            obj[f\"{headers[tasks]}\"] = data_list[data][tasks]\n",
    "        taks_obj.append(obj)\n",
    "\n",
    "# Create a list of promts based on each task\n",
    "prompt_list = []\n",
    "for i in range(len(taks_obj)):\n",
    "    obj = taks_obj[i]\n",
    "\n",
    "    prompt = f\"Do the task of {obj['Task']} for {obj['Name']} on the topics {obj['Topics']} with the condition given as {obj['Task Condition']}.\"\n",
    "    prompt_list.append(prompt)\n",
    "\n"
   ]
  },
  {
   "attachments": {},
   "cell_type": "markdown",
   "metadata": {},
   "source": [
    "### Pyodide Code\n"
   ]
  },
  {
   "cell_type": "code",
   "execution_count": null,
   "metadata": {},
   "outputs": [],
   "source": [
    "from io import BytesIO\n",
    "import pandas as pd\n",
    "\n",
    "print(\"All imports done, Pyodide is running\")\n",
    "\n",
    "def main():\n",
    "    global download_location, not_removed, prompts\n",
    "    not_removed, prompts = xlsx_data(xlsx_file)\n",
    "\n",
    "def xlsx_data(xlsx_file):\n",
    "    prompt_list = []\n",
    "    not_removed = []\n",
    "    if (xlsx_file):\n",
    "        try:\n",
    "            filename, bin_str = xlsx_file[0]\n",
    "            bytes_obj = BytesIO(bytes(bin_str, encoding=\"raw_unicode_escape\"))\n",
    "\n",
    "            xlsx_file = pd.read_excel(bytes_obj)\n",
    "\n",
    "            # Extracting the headers and rows as a list\n",
    "            headers = xlsx_file.columns.tolist()\n",
    "            data_list = xlsx_file.values.tolist()\n",
    "\n",
    "            # Create a task object to curate all stuffs at a place\n",
    "            taks_obj = []\n",
    "            if len(headers) == len(data_list[0]):\n",
    "                for data in range(len(data_list)):\n",
    "                    obj={}\n",
    "                    for tasks in range(len(data_list[data])):\n",
    "                        obj[f\"{headers[tasks]}\"] = data_list[data][tasks]\n",
    "                    taks_obj.append(obj)\n",
    "            \n",
    "            for i in range(len(taks_obj)):\n",
    "                obj = taks_obj[i]\n",
    "                prompt = f\"Do the task of {obj['Task']} for {obj['Name']} on the topics {obj['Topics']} with the condition given as {obj['Task Condition']}.\"\n",
    "                prompt_list.append(prompt)\n",
    "\n",
    "            bytes_obj.close()\n",
    "\n",
    "        except Exception as e:\n",
    "            print(\"entered exception\")\n",
    "            not_removed.append(xlsx_file)\n",
    "            print(e)\n",
    "    else:\n",
    "        not_removed.append(xlsx_file)\n",
    "        print(\"Provide some files\")\n",
    "    return [not_removed, prompt_list]\n",
    "\n",
    "main()"
   ]
  }
 ],
 "metadata": {
  "kernelspec": {
   "display_name": "Python 3",
   "language": "python",
   "name": "python3"
  },
  "language_info": {
   "codemirror_mode": {
    "name": "ipython",
    "version": 3
   },
   "file_extension": ".py",
   "mimetype": "text/x-python",
   "name": "python",
   "nbconvert_exporter": "python",
   "pygments_lexer": "ipython3",
   "version": "3.10.9"
  },
  "orig_nbformat": 4
 },
 "nbformat": 4,
 "nbformat_minor": 2
}
