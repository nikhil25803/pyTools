{
 "cells": [
  {
   "cell_type": "code",
   "execution_count": 32,
   "metadata": {},
   "outputs": [],
   "source": [
    "import PyPDF2\n",
    "import os"
   ]
  },
  {
   "cell_type": "code",
   "execution_count": 40,
   "metadata": {},
   "outputs": [
    {
     "data": {
      "text/plain": [
       "['text.txt']"
      ]
     },
     "execution_count": 40,
     "metadata": {},
     "output_type": "execute_result"
    }
   ],
   "source": [
    "os.listdir(\"./hello\")"
   ]
  },
  {
   "cell_type": "code",
   "execution_count": 31,
   "metadata": {},
   "outputs": [],
   "source": [
    "# Import library\n",
    "import PyPDF2\n",
    "\n",
    "# Create a file object for a pdf file.\n",
    "pdfFile = open(\"../MATH2203_NLP.pdf\", \"rb\")\n",
    "\n",
    "# Create an object for reading a file.\n",
    "pdfReader = PyPDF2.PdfReader(pdfFile)\n",
    "\n",
    "# Get the number of pages in the pdf file.\n",
    "numPages = len(pdfReader.pages)\n",
    "\n",
    "with open(\"text.txt\", \"a\",encoding=\"utf-8\") as text_file:\n",
    "    for page in range(0,numPages):\n",
    "        page = pdfReader.pages[page]\n",
    "        text = page.extract_text()\n",
    "        text_file.write(text)\n",
    "\n"
   ]
  },
  {
   "cell_type": "code",
   "execution_count": null,
   "metadata": {},
   "outputs": [],
   "source": [
    "import random\n",
    "import os\n",
    "import shutil\n",
    "from io import BytesIO\n",
    "import PyPDF2\n",
    "import mimetypes\n",
    "print(\"All imports done, Pyodide is running\")\n",
    "\n",
    "def main():\n",
    "    global download_location, not_removed\n",
    "    download_location, not_removed = pdf_resizer(\n",
    "        'pdf-encryptor', convertables)\n",
    "    not_removed = not_convertable.to_py()+not_removed\n",
    "    print(type(download_location), type(not_removed))\n",
    "    if download_location:\n",
    "        mime = mimetypes.guess_type(download_location)[0]\n",
    "        print(mime)\n",
    "        with open(download_location, \"rb\") as f:\n",
    "            file_content = f.read()\n",
    "        downloadFile(file_content, download_location.split('/')[-1], mime)\n",
    "\n",
    "def empty_root_folder():\n",
    "    for item in os.listdir():\n",
    "        if os.path.isfile(item):\n",
    "            os.remove(item)\n",
    "        else:\n",
    "            shutil.rmtree(item)\n",
    "\n",
    "def pdf_resizer(folder_name, convertables):\n",
    "    empty_root_folder()\n",
    "    os.makedirs(f'{folder_name}')\n",
    "    not_removed = []\n",
    "    print(len(convertables))\n",
    "    if len(convertables):\n",
    "        length = len(convertables)\n",
    "        for i in range(length):\n",
    "            file_name, bin_str = convertables[i]\n",
    "            bytes_obj = BytesIO(bytes(bin_str, encoding=\"raw_unicode_escape\"))\n",
    "            try:\n",
    "                pdfReader = PyPDF2.PdfReader(bytes_obj)\n",
    "                numPages = len(pdfReader.pages)\n",
    "\n",
    "                # Iterate through pages and convert each page to a PNG image\n",
    "                with open(\"folder_name/text.txt\", \"a\",encoding=\"utf-8\") as text_file:\n",
    "                    for page in range(0,numPages):\n",
    "                        page = pdfReader.pages[page]\n",
    "                        text = page.extract_text()\n",
    "                        text_file.write(text)\n",
    "\n",
    "            except Exception as e:\n",
    "                print(\"entered exception\")\n",
    "                not_removed.append(f\"{file_name}\")\n",
    "                print(e)\n",
    "                continue\n",
    "    else:\n",
    "        not_removed = [file_name for file_name, bin_str in convertables]\n",
    "        print(\"length mismatch\")\n",
    "\n",
    "    convertables_in_dir = [f for f in os.listdir(f\"{folder_name}\") if f\"{f}\"[0].isalnum()]\n",
    "    print(convertables_in_dir)\n",
    "    total_convertables = len(convertables_in_dir)\n",
    "    downloadable_location = None\n",
    "    if total_files > 1:\n",
    "        shutil.make_archive(f\"{folder_name}\", \"zip\", f\"{folder_name}\")\n",
    "        shutil.rmtree(f\"{folder_name}\")\n",
    "        downloadable_location = f\"{folder_name}.zip\"\n",
    "    elif total_files == 1:\n",
    "        downloadable_location = f\"{folder_name}/{files_in_dir[0]}\"\n",
    "    else:\n",
    "        shutil.rmtree(f\"{folder_name}\")\n",
    "    print(\"not_converted: \", not_removed)\n",
    "    return [downloadable_location, not_removed]\n",
    "main()"
   ]
  }
 ],
 "metadata": {
  "kernelspec": {
   "display_name": "Python 3",
   "language": "python",
   "name": "python3"
  },
  "language_info": {
   "codemirror_mode": {
    "name": "ipython",
    "version": 3
   },
   "file_extension": ".py",
   "mimetype": "text/x-python",
   "name": "python",
   "nbconvert_exporter": "python",
   "pygments_lexer": "ipython3",
   "version": "3.10.9"
  },
  "orig_nbformat": 4
 },
 "nbformat": 4,
 "nbformat_minor": 2
}
