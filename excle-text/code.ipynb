{
 "cells": [
  {
   "cell_type": "code",
   "execution_count": 1,
   "metadata": {},
   "outputs": [
    {
     "name": "stdout",
     "output_type": "stream",
     "text": [
      "Collecting openpyxl\n",
      "  Downloading openpyxl-3.1.2-py2.py3-none-any.whl (249 kB)\n",
      "     -------------------------------------- 250.0/250.0 kB 1.5 MB/s eta 0:00:00\n",
      "Collecting et-xmlfile\n",
      "  Using cached et_xmlfile-1.1.0-py3-none-any.whl (4.7 kB)\n",
      "Installing collected packages: et-xmlfile, openpyxl\n",
      "Successfully installed et-xmlfile-1.1.0 openpyxl-3.1.2\n"
     ]
    },
    {
     "name": "stderr",
     "output_type": "stream",
     "text": [
      "\n",
      "[notice] A new release of pip available: 22.3.1 -> 23.1.2\n",
      "[notice] To update, run: C:\\Python311\\python.exe -m pip install --upgrade pip\n"
     ]
    }
   ],
   "source": [
    "!pip install openpyxl"
   ]
  },
  {
   "cell_type": "code",
   "execution_count": null,
   "metadata": {},
   "outputs": [],
   "source": [
    "import os\n",
    "from io import BytesIO\n",
    "import openpyxl\n",
    "\n",
    "print(\"All imports done, Pyodide is running\")\n",
    "\n",
    "def main():\n",
    "    global download_location, not_removed, extracted_text\n",
    "    not_removed, extracted_text = xlsx_data(xlsx_file)\n",
    "\n",
    "def xlsx_data(xlsx_file):\n",
    "    text_data = \"\"\n",
    "    not_removed = []\n",
    "    if xlsx_file:\n",
    "        try:\n",
    "            filename, bin_str = xlsx_file[0]\n",
    "            bytes_obj = BytesIO(bytes(bin_str, encoding=\"raw_unicode_escape\"))\n",
    "\n",
    "            # Load the workbook using openpyxl\n",
    "            workbook = openpyxl.load_workbook(bytes_obj)\n",
    "\n",
    "            # Assume we are reading the first sheet\n",
    "            sheet = workbook.active\n",
    "\n",
    "            # Read the data from the sheet\n",
    "            rows = sheet.iter_rows(values_only=True)\n",
    "            text_data = '\\n'.join('\\t'.join(str(cell) for cell in row) for row in rows)\n",
    "\n",
    "            bytes_obj.close()\n",
    "\n",
    "        except Exception as e:\n",
    "            print(\"entered exception\")\n",
    "            print(e)\n",
    "    else:\n",
    "        not_removed.append(xlsx_file)\n",
    "        print(\"Provide some files\")\n",
    "    return [not_removed, text_data]\n",
    "\n",
    "main()\n"
   ]
  }
 ],
 "metadata": {
  "kernelspec": {
   "display_name": "Python 3",
   "language": "python",
   "name": "python3"
  },
  "language_info": {
   "codemirror_mode": {
    "name": "ipython",
    "version": 3
   },
   "file_extension": ".py",
   "mimetype": "text/x-python",
   "name": "python",
   "nbconvert_exporter": "python",
   "pygments_lexer": "ipython3",
   "version": "3.10.9"
  },
  "orig_nbformat": 4
 },
 "nbformat": 4,
 "nbformat_minor": 2
}
