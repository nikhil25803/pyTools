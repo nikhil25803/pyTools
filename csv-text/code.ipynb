{
 "cells": [
  {
   "cell_type": "code",
   "execution_count": 1,
   "metadata": {},
   "outputs": [
    {
     "name": "stdout",
     "output_type": "stream",
     "text": [
      "Lakshya-30 5 5 https://github.com/Clueless-Community/fintech-api/pull/19\n",
      "gizmo50 5 5 https://github.com/Clueless-Community/fintech-api/pull/18\n",
      "NiranjanHonnungar 5 5 https://github.com/Clueless-Community/fintech-api/pull/17\n",
      "melencholicmice 5 5 https://github.com/Clueless-Community/fintech-api/pull/15\n",
      "yixin0829 5 5 https://github.com/Clueless-Community/fintech-api/pull/9\n",
      "mymyxtran 5 5 https://github.com/Clueless-Community/fintech-api/pull/8\n",
      "shivamkgpian 5 5 https://github.com/Clueless-Community/seamless-ui/pull/673\n",
      "itz-deepak 5 5 https://github.com/Clueless-Community/seamless-ui/pull/671\n",
      "RavindraP04 5 5 https://github.com/Clueless-Community/seamless-ui/pull/670\n",
      "Hirenachhaada 5 5 https://github.com/Clueless-Community/seamless-ui/pull/669\n",
      "Swap-nil-2003 5 5 https://github.com/Clueless-Community/seamless-ui/pull/665\n",
      "\n"
     ]
    }
   ],
   "source": [
    "import csv\n",
    "from io import BytesIO\n",
    "extracted_text = \"\"\n",
    "with open(\"./score.csv\", 'r') as csv_file:\n",
    "    csv_reader = csv.reader(csv_file)\n",
    "    for row in csv_reader:\n",
    "        extracted_text += ' '.join(row) + '\\n'\n",
    "    \n",
    "print(extracted_text)\n",
    "\n"
   ]
  },
  {
   "cell_type": "code",
   "execution_count": null,
   "metadata": {},
   "outputs": [],
   "source": [
    "import os\n",
    "from io import BytesIO\n",
    "print(\"All imports done, Pyodide is running\")\n",
    "\n",
    "\n",
    "def main():\n",
    "    global download_location, not_removed, extracted_text\n",
    "    not_removed, extracted_text = csv_data(csv_file)\n",
    "\n",
    "\n",
    "def csv_data(csv_file):\n",
    "    text_data = \"\"\n",
    "    not_removed = []\n",
    "    if csv_file:\n",
    "        try:\n",
    "            filename,bin_str = csv_file[0]\n",
    "            bytes_obj = BytesIO(bytes(bin_str, encoding=\"raw_unicode_escape\"))\n",
    "            text = bytes_obj.read().decode(\"utf-8\")\n",
    "            text_data = text\n",
    "            bytes_obj.close()\n",
    "\n",
    "        except Exception as e:\n",
    "            print(\"entered exception\")\n",
    "            print(e)\n",
    "    else:\n",
    "        not_removed.append(csv_file)\n",
    "        print(\"Provide some files\")\n",
    "    return [not_removed, text_data]\n",
    "\n",
    "\n",
    "main()"
   ]
  }
 ],
 "metadata": {
  "kernelspec": {
   "display_name": "Python 3",
   "language": "python",
   "name": "python3"
  },
  "language_info": {
   "codemirror_mode": {
    "name": "ipython",
    "version": 3
   },
   "file_extension": ".py",
   "mimetype": "text/x-python",
   "name": "python",
   "nbconvert_exporter": "python",
   "pygments_lexer": "ipython3",
   "version": "3.10.9"
  },
  "orig_nbformat": 4
 },
 "nbformat": 4,
 "nbformat_minor": 2
}
