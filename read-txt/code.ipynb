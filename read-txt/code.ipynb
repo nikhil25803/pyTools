{
 "cells": [
  {
   "cell_type": "code",
   "execution_count": null,
   "metadata": {},
   "outputs": [],
   "source": [
    "\n",
    "print(\"All imports done, Pyodide is running\")\n",
    "\n",
    "\n",
    "def main():\n",
    "    global download_location,not_removed, extracted_text\n",
    "    not_removed,extracted_text=text_data('pdf-decryptor',text_file)\n",
    "\n",
    "def text_data(text_file):\n",
    "    text_data = \"\"\n",
    "    not_removed=[]\n",
    "    if len(text_data):\n",
    "        try:\n",
    "            text_file = open(\"text.txt\", \"r\",encoding=\"utf-8\")               \n",
    "            text = text_file.read()\n",
    "            text_data = text            \n",
    "            text_file.close() \n",
    "\n",
    "        except Exception as e:\n",
    "            print(\"entered exception\")\n",
    "            print(e)\n",
    "    else:\n",
    "        print(\"Provide some files\")\n",
    "    return [not_removed, text_data]\n",
    "\n",
    "main()"
   ]
  },
  {
   "cell_type": "code",
   "execution_count": 1,
   "metadata": {},
   "outputs": [],
   "source": [
    "import os"
   ]
  },
  {
   "cell_type": "code",
   "execution_count": 2,
   "metadata": {},
   "outputs": [
    {
     "data": {
      "text/plain": [
       "['code.ipynb']"
      ]
     },
     "execution_count": 2,
     "metadata": {},
     "output_type": "execute_result"
    }
   ],
   "source": [
    "os.listdir()"
   ]
  },
  {
   "cell_type": "code",
   "execution_count": null,
   "metadata": {},
   "outputs": [],
   "source": []
  }
 ],
 "metadata": {
  "kernelspec": {
   "display_name": "Python 3",
   "language": "python",
   "name": "python3"
  },
  "language_info": {
   "codemirror_mode": {
    "name": "ipython",
    "version": 3
   },
   "file_extension": ".py",
   "mimetype": "text/x-python",
   "name": "python",
   "nbconvert_exporter": "python",
   "pygments_lexer": "ipython3",
   "version": "3.10.9"
  },
  "orig_nbformat": 4
 },
 "nbformat": 4,
 "nbformat_minor": 2
}
